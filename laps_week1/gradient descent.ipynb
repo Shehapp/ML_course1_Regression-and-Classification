{
 "cells": [
  {
   "cell_type": "markdown",
   "id": "e2d40d5a",
   "metadata": {},
   "source": [
    "# use every thing i teach"
   ]
  },
  {
   "cell_type": "code",
   "execution_count": 9,
   "id": "4208662b",
   "metadata": {},
   "outputs": [],
   "source": [
    "import math, copy\n",
    "import numpy as np\n",
    "import matplotlib.pyplot as plt"
   ]
  },
  {
   "cell_type": "markdown",
   "id": "08dff0da",
   "metadata": {},
   "source": [
    "compute derivative\n",
    "$$\n",
    "\\begin{align}\n",
    "\\frac{\\partial J(w,b)}{\\partial w}  &= \\frac{1}{m} \\sum\\limits_{i = 0}^{m-1} (f_{w,b}(x^{(i)}) - y^{(i)})x^{(i)} \\tag{4}\\\\\n",
    "  \\frac{\\partial J(w,b)}{\\partial b}  &= \\frac{1}{m} \\sum\\limits_{i = 0}^{m-1} (f_{w,b}(x^{(i)}) - y^{(i)}) \\tag{5}\\\\\n",
    "\\end{align}\n",
    "$$"
   ]
  },
  {
   "cell_type": "code",
   "execution_count": 10,
   "id": "e29bd9d6",
   "metadata": {},
   "outputs": [],
   "source": [
    "#compute derivatve\n",
    "def derivatve(w,b,m,x,y):\n",
    "    dj_dw=0\n",
    "    dj_db=0\n",
    "    for i in range(m):\n",
    "        dj_dw_i=((w*x[i]+b)-y[i])*x[i]\n",
    "        dj_db_i=((w*x[i]+b)-y[i])\n",
    "        dj_dw+= dj_dw_i\n",
    "        dj_db+= dj_db_i\n",
    "    dj_dw/=m\n",
    "    dj_db/=m\n",
    "    return dj_dw,dj_db\n",
    "    \n",
    "        \n",
    "   \n",
    "\n",
    "        "
   ]
  },
  {
   "cell_type": "markdown",
   "id": "ea7e60af",
   "metadata": {},
   "source": [
    "$$\\begin{align*} \\text{repeat}&\\text{ until convergence:} \\; \\lbrace \\newline\n",
    "\\;  w &= w -  \\alpha \\frac{\\partial J(w,b)}{\\partial w} \\tag{3}  \\; \\newline \n",
    " b &= b -  \\alpha \\frac{\\partial J(w,b)}{\\partial b}  \\newline \\rbrace\n",
    "\\end{align*}$$"
   ]
  },
  {
   "cell_type": "code",
   "execution_count": 11,
   "id": "2c407d08",
   "metadata": {},
   "outputs": [],
   "source": [
    "#gradient\n",
    "def compute(times,w,b,x,y,l_r):\n",
    "    #get m number of training data\n",
    "    m=x.shape[0];\n",
    "  \n",
    "    for j in range(times):\n",
    "        ans=derivatve(w,b,m,x,y)\n",
    "        dj_dw=ans[0]\n",
    "        dj_db=ans[1]\n",
    "        w_t=w-l_r*dj_dw\n",
    "        b_t=b-l_r*dj_db\n",
    "        w=w_t\n",
    "        b=b_t\n",
    "    return w,b\n",
    "    "
   ]
  },
  {
   "cell_type": "code",
   "execution_count": 12,
   "id": "3aad87bb",
   "metadata": {},
   "outputs": [],
   "source": [
    "# compute predict output\n",
    "def predict(x,w,b):\n",
    "    ans=[]\n",
    "    for i in x:\n",
    "        ans.append(w*i+b)\n",
    "    return ans\n"
   ]
  },
  {
   "cell_type": "code",
   "execution_count": 13,
   "id": "1fff3c2c",
   "metadata": {},
   "outputs": [],
   "source": [
    "#compute cost f (square avreage error)\n",
    "def cost_fun(predict,y,m):\n",
    "    ans=0\n",
    "    for i in range(m):\n",
    "        ans+=(predict[i]-y[i])**2\n",
    "    return ans/(2*m)\n",
    "    "
   ]
  },
  {
   "cell_type": "code",
   "execution_count": 14,
   "id": "d74f2504",
   "metadata": {},
   "outputs": [],
   "source": [
    "#plot the line \n",
    "def show(y,predict,x):\n",
    "    plt.scatter(x,y,c='g',label=\"true data\")\n",
    "    plt.plot(x,predict,c='r',label=\"predict data\")\n",
    "    plt.title(\"Housing Prices\")\n",
    "    plt.xlabel(\"feet\")\n",
    "    plt.ylabel(\"price\")\n",
    "    plt.legend()\n",
    "    plt.show()"
   ]
  },
  {
   "cell_type": "code",
   "execution_count": 16,
   "id": "9f6f764b",
   "metadata": {},
   "outputs": [
    {
     "name": "stdout",
     "output_type": "stream",
     "text": [
      "w= 199.99285075131766\n",
      "b= 100.011567727362\n",
      "cost function= 6.745014662580395e-06\n"
     ]
    },
    {
     "data": {
      "image/png": "[encoded data removed]",
      "text/plain": [
       "<Figure size 432x288 with 1 Axes>"
      ]
     },
     "metadata": {
      "needs_background": "light"
     },
     "output_type": "display_data"
    }
   ],
   "source": [
    "#example\n",
    "x_train=np.array([1,2]) #feautre\n",
    "y_train=np.array([300,500]) #target\n",
    "\n",
    "ans=compute(10000,0,0,x_train,y_train,1.0e-2)# w and b\n",
    "w=ans[0]\n",
    "b=ans[1]\n",
    "print(f\"w= {w}\")\n",
    "print(f\"b= {b}\")\n",
    "#print cost f\n",
    "print(f\"cost function= {cost_fun(predict(x_train,w,b),y_train,y_train.shape[0])}\")\n",
    "#show true output verses predict output\n",
    "show(y_train,predict(x_train,w,b),x_train)"
   ]
  },
  {
   "cell_type": "code",
   "execution_count": 8,
   "id": "89c1ef61",
   "metadata": {},
   "outputs": [
    {
     "name": "stdout",
     "output_type": "stream",
     "text": [
      "1000 sqft house prediction 300.0 Thousand dollars\n",
      "1200 sqft house prediction 340.0 Thousand dollars\n",
      "2000 sqft house prediction 500.0 Thousand dollars\n"
     ]
    }
   ],
   "source": [
    "#enter feet get price\n",
    "print(f\"1000 sqft house prediction {w*1.0 + b:0.1f} Thousand dollars\")\n",
    "print(f\"1200 sqft house prediction {w*1.2 + b:0.1f} Thousand dollars\")\n",
    "print(f\"2000 sqft house prediction {w*2.0 + b:0.1f} Thousand dollars\")"
   ]
  },
  {
   "cell_type": "code",
   "execution_count": null,
   "id": "ebe02ac2",
   "metadata": {},
   "outputs": [],
   "source": []
  }
 ],
 "metadata": {
  "kernelspec": {
   "display_name": "Python 3 (ipykernel)",
   "language": "python",
   "name": "python3"
  },
  "language_info": {
   "codemirror_mode": {
    "name": "ipython",
    "version": 3
   },
   "file_extension": ".py",
   "mimetype": "text/x-python",
   "name": "python",
   "nbconvert_exporter": "python",
   "pygments_lexer": "ipython3",
   "version": "3.9.12"
  }
 },
 "nbformat": 4,
 "nbformat_minor": 5
}
