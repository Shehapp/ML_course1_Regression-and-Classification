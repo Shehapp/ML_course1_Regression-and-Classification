{
 "cells": [
  {
   "cell_type": "markdown",
   "id": "c7e4a71b",
   "metadata": {},
   "source": [
    "# cost function"
   ]
  },
  {
   "cell_type": "markdown",
   "id": "560feb86",
   "metadata": {},
   "source": [
    "liner regression to fit straight line by training data:\n",
    "   \n",
    "  $$f_{w,b}(x^{(i)}) = wx^{(i)} + b \\tag{2}$$\n"
   ]
  },
  {
   "cell_type": "markdown",
   "id": "3099f0c4",
   "metadata": {},
   "source": [
    "cost function calculate the square avrage error and the goal to find minimal cost function\n",
    "  $$J(w,b) = \\frac{1}{2m} \\sum\\limits_{i = 0}^{m-1} (f_{w,b}(x^{(i)}) - y^{(i)})^2 \\tag{1}$$ \n"
   ]
  },
  {
   "cell_type": "code",
   "execution_count": 13,
   "id": "e1debdea",
   "metadata": {},
   "outputs": [],
   "source": [
    "#give this f input and true output and w,b and calc square avrage error\n",
    "def compute_cost(x, y, w, b): \n",
    "    \"\"\"\n",
    "   x is inputs\n",
    "   y is target or true output\n",
    "   \n",
    "    \"\"\"\n",
    "    m = x.shape[0] \n",
    "    \n",
    "    cost_sum = 0 \n",
    "    for i in range(m): \n",
    "        #linear regression\n",
    "        f_wb = w * x[i] + b   \n",
    "        cost = (f_wb - y[i]) ** 2  \n",
    "        cost_sum = cost_sum + cost  \n",
    "    total_cost = (1 / (2 * m)) * cost_sum  \n",
    "\n",
    "    return total_cost"
   ]
  },
  {
   "cell_type": "code",
   "execution_count": null,
   "id": "fa1f397f",
   "metadata": {},
   "outputs": [],
   "source": []
  }
 ],
 "metadata": {
  "kernelspec": {
   "display_name": "Python 3 (ipykernel)",
   "language": "python",
   "name": "python3"
  },
  "language_info": {
   "codemirror_mode": {
    "name": "ipython",
    "version": 3
   },
   "file_extension": ".py",
   "mimetype": "text/x-python",
   "name": "python",
   "nbconvert_exporter": "python",
   "pygments_lexer": "ipython3",
   "version": "3.9.12"
  }
 },
 "nbformat": 4,
 "nbformat_minor": 5
}
