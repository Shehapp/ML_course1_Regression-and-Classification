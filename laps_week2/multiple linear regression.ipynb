{
 "cells": [
  {
   "cell_type": "markdown",
   "id": "7eea32cc",
   "metadata": {},
   "source": [
    "# multible liner regression \n",
    "- housing price"
   ]
  },
  {
   "cell_type": "markdown",
   "id": "e4ae952d",
   "metadata": {},
   "source": [
    "# Goal\n",
    "- create model compute regression multible feature (should features>=2)"
   ]
  },
  {
   "cell_type": "code",
   "execution_count": 2,
   "id": "f94089cd",
   "metadata": {},
   "outputs": [],
   "source": [
    "import copy, math\n",
    "import numpy as np\n",
    "import matplotlib.pyplot as plt"
   ]
  },
  {
   "cell_type": "code",
   "execution_count": 3,
   "id": "f5ff348f",
   "metadata": {},
   "outputs": [],
   "source": [
    "#compute derivatve\n",
    "def derivative(w,b,x,y):\n",
    "    m=x.shape[0]\n",
    "    n=x.shape[1]\n",
    "    dj_w=np.zeros(n)\n",
    "    dj_b=0\n",
    "    for j in range(m):\n",
    "        err=(np.dot(w,x[j])+b)-y[j]\n",
    "        for i in range(n):\n",
    "            dj_w[i]+=err*x[j,i];\n",
    "        dj_b+=err\n",
    "    dj_w/=m;\n",
    "    dj_b/=m;\n",
    "    return dj_w,dj_b\n",
    "        \n",
    "\n",
    "        \n",
    "    "
   ]
  },
  {
   "cell_type": "code",
   "execution_count": 4,
   "id": "20806bdd",
   "metadata": {},
   "outputs": [],
   "source": [
    "#gradient\n",
    "def compute(times,x,y,b,w,l_r):\n",
    "    \n",
    "    for p in range(times):\n",
    "        c=derivative(w,b,x,y)\n",
    "        dj_w=c[0]\n",
    "        dj_b=c[1]\n",
    "        w=w-l_r*dj_w\n",
    "        b=b-l_r*dj_b\n",
    "    return w,b\n",
    "        \n",
    "        \n",
    "    "
   ]
  },
  {
   "cell_type": "code",
   "execution_count": 5,
   "id": "6d22ffe0",
   "metadata": {},
   "outputs": [],
   "source": [
    "# compute predict output\n",
    "def predict(x,w,b):\n",
    "    out=[]\n",
    "    for i in range(x.shape[0]):\n",
    "        out.append(np.dot(w,x[i])+b)\n",
    "    return out"
   ]
  },
  {
   "cell_type": "code",
   "execution_count": 6,
   "id": "bd4193c4",
   "metadata": {},
   "outputs": [],
   "source": [
    "#compute cost f (square avreage error)\n",
    "def cost_f(x,y,y_hat):\n",
    "    sum=0\n",
    "    m=x.shape[0]\n",
    "    for i in range(m):\n",
    "        sum+=(y_hat[i]-y[i])**2;\n",
    "    return sum/(2*m)"
   ]
  },
  {
   "cell_type": "code",
   "execution_count": 8,
   "id": "38563bcc",
   "metadata": {},
   "outputs": [
    {
     "name": "stdout",
     "output_type": "stream",
     "text": [
      "w= [ 0.20568629  0.00701083 -0.0225015  -0.13373141]\n",
      "b=-0.004484938463207788\n",
      "predicted [426.7541047340379, 285.8740722763518, 170.55115339389158]\n",
      "cost function at end 677.198421905705\n"
     ]
    }
   ],
   "source": [
    "X_train = np.array([[2104, 5, 1, 45], [1416, 3, 2, 40], [852, 2, 1, 35]])\n",
    "y_train = np.array([460, 232, 178])\n",
    "b_i = 0\n",
    "w_i = np.zeros(X_train.shape[1] )\n",
    "xx=compute(100000,X_train,y_train,b_i,w_i,0.00000001)\n",
    "print(f\"w= {xx[0]}\")\n",
    "print(f\"b={xx[1]}\")\n",
    "print(f\"predicted {predict(X_train,xx[0],xx[1])}\")\n",
    "print(f\"cost function at end {cost_f(X_train,y_train,predict(X_train,xx[0],xx[1]))}\")"
   ]
  },
  {
   "cell_type": "code",
   "execution_count": null,
   "id": "0da0382c",
   "metadata": {},
   "outputs": [],
   "source": []
  }
 ],
 "metadata": {
  "kernelspec": {
   "display_name": "Python 3 (ipykernel)",
   "language": "python",
   "name": "python3"
  },
  "language_info": {
   "codemirror_mode": {
    "name": "ipython",
    "version": 3
   },
   "file_extension": ".py",
   "mimetype": "text/x-python",
   "name": "python",
   "nbconvert_exporter": "python",
   "pygments_lexer": "ipython3",
   "version": "3.9.12"
  }
 },
 "nbformat": 4,
 "nbformat_minor": 5
}
