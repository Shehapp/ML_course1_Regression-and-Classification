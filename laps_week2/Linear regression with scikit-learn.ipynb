{
 "cells": [
  {
   "cell_type": "markdown",
   "id": "205b8bde",
   "metadata": {},
   "source": [
    "#  Linear Regression using Scikit-Learn\n",
    "- implemnt linear regression by build in function\n",
    " - make rescale \n",
    " - make gradient descent\n"
   ]
  },
  {
   "cell_type": "code",
   "execution_count": 14,
   "id": "e9f1b05a",
   "metadata": {},
   "outputs": [],
   "source": [
    "import numpy as np\n",
    "import matplotlib.pyplot as plt\n",
    "from sklearn.linear_model import SGDRegressor #make GD\n",
    "from sklearn.preprocessing import StandardScaler #make rescale\n",
    "from lab_utils_multi import  load_house_data\n",
    "from lab_utils_common import dlc\n",
    "np.set_printoptions(precision=2)\n",
    "plt.style.use('./deeplearning.mplstyle')"
   ]
  },
  {
   "cell_type": "code",
   "execution_count": 15,
   "id": "3c9b6531",
   "metadata": {},
   "outputs": [],
   "source": [
    "x,y=load_house_data()"
   ]
  },
  {
   "cell_type": "code",
   "execution_count": 16,
   "id": "cb120a08",
   "metadata": {},
   "outputs": [
    {
     "name": "stdout",
     "output_type": "stream",
     "text": [
      "Peak to Peak range by column in Raw        X:[2.41e+03 4.00e+00 1.00e+00 9.50e+01]\n",
      "Peak to Peak range by column in Normalized X:[5.85 6.14 2.06 3.69]\n"
     ]
    }
   ],
   "source": [
    "scaler = StandardScaler()\n",
    "x_norm = scaler.fit_transform(x)\n",
    "#np.ptp make max-min thats mean know range of featur\n",
    "print(f\"Peak to Peak range by column in Raw        X:{np.ptp(x,axis=0)}\") # before norm \n",
    "print(f\"Peak to Peak range by column in Normalized X:{np.ptp(x_norm,axis=0)}\") # after norm z-score"
   ]
  },
  {
   "cell_type": "code",
   "execution_count": 22,
   "id": "6a04dc2c",
   "metadata": {},
   "outputs": [
    {
     "name": "stdout",
     "output_type": "stream",
     "text": [
      "w= [363.13]\n",
      "b= [109.97 -21.02 -32.4  -38.1 ]\n",
      "y_hat=[295.14 485.8  389.54 491.96]\n"
     ]
    }
   ],
   "source": [
    "sgdr = SGDRegressor(max_iter=1000)\n",
    "sgdr.fit(x_norm, y)\n",
    "w=sgdr.intercept_\n",
    "b=sgdr.coef_\n",
    "print(f\"w= {w}\")\n",
    "print(f\"b= {b}\")\n",
    "#make predict\n",
    "y_hat=sgdr.predict(x_norm)\n",
    "print(f\"y_hat={y_hat[:4]}\")"
   ]
  },
  {
   "cell_type": "code",
   "execution_count": null,
   "id": "5e701d40",
   "metadata": {},
   "outputs": [],
   "source": []
  }
 ],
 "metadata": {
  "kernelspec": {
   "display_name": "Python 3 (ipykernel)",
   "language": "python",
   "name": "python3"
  },
  "language_info": {
   "codemirror_mode": {
    "name": "ipython",
    "version": 3
   },
   "file_extension": ".py",
   "mimetype": "text/x-python",
   "name": "python",
   "nbconvert_exporter": "python",
   "pygments_lexer": "ipython3",
   "version": "3.9.12"
  }
 },
 "nbformat": 4,
 "nbformat_minor": 5
}
