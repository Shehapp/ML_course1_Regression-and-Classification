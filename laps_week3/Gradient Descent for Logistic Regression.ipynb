{
 "cells": [
  {
   "cell_type": "markdown",
   "id": "185060ed",
   "metadata": {},
   "source": [
    "# Optional Lab: Gradient Descent for Logistic Regression"
   ]
  },
  {
   "cell_type": "code",
   "execution_count": 26,
   "id": "8254f366",
   "metadata": {},
   "outputs": [],
   "source": [
    "import numpy as np\n",
    "import matplotlib.pyplot as plt"
   ]
  },
  {
   "cell_type": "code",
   "execution_count": 27,
   "id": "02bb1834",
   "metadata": {},
   "outputs": [],
   "source": [
    "def sigmoid(x):\n",
    "    return 1/(1+np.exp(-x))"
   ]
  },
  {
   "cell_type": "code",
   "execution_count": 28,
   "id": "87efe606",
   "metadata": {},
   "outputs": [],
   "source": [
    "def cost_logistic(x,y,w,b):\n",
    "    \n",
    "    m=x.shape[0]\n",
    "    se = sigmoid(np.dot(x,w)+b)\n",
    "    ans = 0\n",
    "    for i in range(m):\n",
    "        ans+=-y[i]*np.log(se[i])-(1-y[i])*np.log(1-se[i])\n",
    "    return ans/m"
   ]
  },
  {
   "cell_type": "code",
   "execution_count": 29,
   "id": "fa755927",
   "metadata": {},
   "outputs": [],
   "source": [
    "def gradient_descent(x,y,w,b):\n",
    "    \n",
    "    n = x.shape[1]\n",
    "    m = x.shape[0]\n",
    "    dj_w = np.zeros((n,))\n",
    "    dj_b = 0\n",
    "    for i in range(m):\n",
    "        err = (sigmoid(np.dot(x[i],w)+b))-y[i]\n",
    "        for j in range(n):\n",
    "            dj_w[j]+=err*x[i,j]\n",
    "        dj_b+=err\n",
    "    return dj_w/m,dj_b/m\n",
    "            "
   ]
  },
  {
   "cell_type": "code",
   "execution_count": 42,
   "id": "7a796d6c",
   "metadata": {},
   "outputs": [],
   "source": [
    "def train_model(w,b,x,y,times,alpha,mod):\n",
    "    \n",
    "    for i in range(times):\n",
    "        dj_w,dj_b=gradient_descent(x,y,w,b)\n",
    "        w = w - alpha*dj_w\n",
    "        b = b- alpha*dj_b\n",
    "        if i%mod==0:\n",
    "            print(f\"ite: {i} cost= {cost_logistic(x,y,w,b)}\")\n",
    "    return w,b"
   ]
  },
  {
   "cell_type": "code",
   "execution_count": 38,
   "id": "60430e40",
   "metadata": {},
   "outputs": [
    {
     "name": "stdout",
     "output_type": "stream",
     "text": [
      "(array([0.49833339, 0.49883943]), 0.49861806546328574)\n"
     ]
    }
   ],
   "source": [
    "X_tmp = np.array([[0.5, 1.5], [1,1], [1.5, 0.5], [3, 0.5], [2, 2], [1, 2.5]])\n",
    "y_tmp = np.array([0, 0, 0, 1, 1, 1])\n",
    "w_tmp = np.array([2.,3.])\n",
    "b_tmp = 1.\n",
    "print(gradient_descent(X_tmp,y_tmp,w_tmp,b_tmp))\n"
   ]
  },
  {
   "cell_type": "code",
   "execution_count": 43,
   "id": "8f2fc66a",
   "metadata": {},
   "outputs": [
    {
     "name": "stdout",
     "output_type": "stream",
     "text": [
      "ite: 0 cost= 0.684610468560574\n",
      "ite: 1000 cost= 0.1590977666870457\n",
      "ite: 2000 cost= 0.08460064176930078\n",
      "ite: 3000 cost= 0.05705327279402531\n",
      "ite: 4000 cost= 0.04290759421682\n",
      "ite: 5000 cost= 0.03433847729884557\n",
      "ite: 6000 cost= 0.02860379802212006\n",
      "ite: 7000 cost= 0.02450156960879306\n",
      "ite: 8000 cost= 0.02142370332569295\n",
      "ite: 9000 cost= 0.019030137124109114\n",
      "w= [5.28123029 5.07815608]\n",
      "b= -14.222409982019837\n"
     ]
    }
   ],
   "source": [
    "X_train = np.array([[0.5, 1.5], [1,1], [1.5, 0.5], [3, 0.5], [2, 2], [1, 2.5]])\n",
    "y_train = np.array([0, 0, 0, 1, 1, 1])\n",
    "w_tmp  = np.zeros_like(X_train[0])\n",
    "b_tmp  = 0.\n",
    "alph = 0.1\n",
    "iters = 10000\n",
    "w,b = train_model(w_tmp,b_tmp,X_train,y_train,iters,alph,1000)\n",
    "print(f\"w= {w}\")\n",
    "print(f\"b= {b}\")"
   ]
  },
  {
   "cell_type": "code",
   "execution_count": 55,
   "id": "37878bd5",
   "metadata": {},
   "outputs": [
    {
     "name": "stdout",
     "output_type": "stream",
     "text": [
      "YES\n"
     ]
    }
   ],
   "source": [
    "# enter inputs if outputs>=0.5 its 1 else its 0\n",
    "x = [1,2.5]\n",
    "ans = round(np.dot(x,w)+b)\n",
    "if ans>=0.5:\n",
    "    print(\"YES\")\n",
    "else:\n",
    "    print(\"NO\")"
   ]
  },
  {
   "cell_type": "code",
   "execution_count": null,
   "id": "aa10470d",
   "metadata": {},
   "outputs": [],
   "source": []
  }
 ],
 "metadata": {
  "kernelspec": {
   "display_name": "Python 3 (ipykernel)",
   "language": "python",
   "name": "python3"
  },
  "language_info": {
   "codemirror_mode": {
    "name": "ipython",
    "version": 3
   },
   "file_extension": ".py",
   "mimetype": "text/x-python",
   "name": "python",
   "nbconvert_exporter": "python",
   "pygments_lexer": "ipython3",
   "version": "3.9.12"
  }
 },
 "nbformat": 4,
 "nbformat_minor": 5
}
