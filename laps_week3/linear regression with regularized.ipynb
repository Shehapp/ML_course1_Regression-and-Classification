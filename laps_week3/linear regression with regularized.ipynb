{
 "cells": [
  {
   "cell_type": "markdown",
   "id": "0efe343e",
   "metadata": {},
   "source": [
    "#  Feature scaling and Learning Rate (Multi-variable)\n"
   ]
  },
  {
   "cell_type": "markdown",
   "id": "772abee7",
   "metadata": {},
   "source": [
    "# Goal\n",
    "- how learning rate change the cost\n",
    "- normalize or rescale the training examples"
   ]
  },
  {
   "cell_type": "code",
   "execution_count": 60,
   "id": "61471cf7",
   "metadata": {},
   "outputs": [],
   "source": [
    "import copy, math\n",
    "import numpy as np\n",
    "import pandas as pd\n",
    "import seaborn as sns\n",
    "import matplotlib.pyplot as plt"
   ]
  },
  {
   "cell_type": "code",
   "execution_count": 146,
   "id": "5df7f7f6",
   "metadata": {},
   "outputs": [],
   "source": [
    "#compute derivatve\n",
    "def derivatve(w,b,y,x,lambda_):\n",
    "    m = x.shape[0]\n",
    "    n = x.shape[1]\n",
    "    dj_w = np.zeros(n)\n",
    "    dj_b = 0\n",
    "    for i in range(m):\n",
    "        err=(np.dot(w,x[i])+b)-y[i]\n",
    "        for j in range(n):\n",
    "            dj_w[j]+=err*x[i][j]\n",
    "        dj_b+=err\n",
    "    dj_w/=m\n",
    "    for i in range(n):\n",
    "        dj_w[i]+=(lambda_/m)*w[i]\n",
    "    return dj_w,dj_b/m\n"
   ]
  },
  {
   "cell_type": "code",
   "execution_count": 102,
   "id": "3524d0a0",
   "metadata": {},
   "outputs": [],
   "source": [
    "#gradient\n",
    "def gradient(w,b,x,y,l_r,times,mod,lambda_):\n",
    "    cost = []\n",
    "    ite = []\n",
    "    for i in range(times):\n",
    "        ans = derivatve(w,b,y,x,lambda_)\n",
    "        w=w-l_r*ans[0]\n",
    "        b=b-l_r*ans[1]\n",
    "        if i % mod ==0:\n",
    "            cost.append(cost_f(predict(w,b,x),y,w,lambda_))\n",
    "            ite.append(i)\n",
    "    return w,b,cost,ite"
   ]
  },
  {
   "cell_type": "code",
   "execution_count": 103,
   "id": "f8d4db59",
   "metadata": {},
   "outputs": [],
   "source": [
    "# compute predict output\n",
    "def predict(w,b,x):\n",
    "    return np.dot(x,w)+b\n"
   ]
  },
  {
   "cell_type": "code",
   "execution_count": 104,
   "id": "52290210",
   "metadata": {},
   "outputs": [],
   "source": [
    "#compute cost f (square avreage error)\n",
    "def cost_f(y_hat,y,w,lambda_):\n",
    "    m = y.shape[0]\n",
    "    cost = 0\n",
    "    for i in range(m):\n",
    "        cost+=(y_hat[i]-y[i])**2\n",
    "    cost/=(2*m)\n",
    "    reg_cost = 0\n",
    "    for i in w:\n",
    "        reg_cost+=i**2\n",
    "    reg_cost=reg_cost*(lambda_/(2*m))\n",
    "    return cost+reg_cost\n"
   ]
  },
  {
   "cell_type": "markdown",
   "id": "b8149d6d",
   "metadata": {},
   "source": [
    "# Feature Scaling\n",
    "- Z-score normalization"
   ]
  },
  {
   "cell_type": "markdown",
   "id": "7fb2fc65",
   "metadata": {},
   "source": [
    "After z-score normalization, all features will have a mean of 0 and a standard deviation of 1.\n",
    "\n",
    "To implement z-score normalization, adjust your input values as shown in this formula:\n",
    "$$x^{(i)}_j = \\dfrac{x^{(i)}_j - \\mu_j}{\\sigma_j} \\tag{4}$$ \n",
    "where $j$ selects a feature or a column in the $\\mathbf{X}$ matrix. $µ_j$ is the mean of all the values for feature (j) and $\\sigma_j$ is the standard deviation of feature (j).\n",
    "$$\n",
    "\\begin{align}\n",
    "\\mu_j &= \\frac{1}{m} \\sum_{i=0}^{m-1} x^{(i)}_j \\tag{5}\\\\\n",
    "\\sigma^2_j &= \\frac{1}{m} \\sum_{i=0}^{m-1} (x^{(i)}_j - \\mu_j)^2  \\tag{6}\n",
    "\\end{align}\n",
    "$$"
   ]
  },
  {
   "cell_type": "code",
   "execution_count": 105,
   "id": "b340e5ef",
   "metadata": {},
   "outputs": [],
   "source": [
    "def z_score(x):\n",
    "    m = x.shape[0]\n",
    "    n = x.shape[1]\n",
    "    mu =np.mean(X_train,axis=0)\n",
    "    sigma = np.std(X_train,axis=0)\n",
    "    X_norm = (x-mu)/sigma\n",
    "    return X_norm,mu,sigma\n",
    "            \n",
    "    "
   ]
  },
  {
   "cell_type": "markdown",
   "id": "a4f9d37d",
   "metadata": {},
   "source": [
    "# test the model"
   ]
  },
  {
   "cell_type": "code",
   "execution_count": 154,
   "id": "27b7b696",
   "metadata": {},
   "outputs": [
    {
     "name": "stdout",
     "output_type": "stream",
     "text": [
      "ite: 0, cost = 28284.54934163277\n",
      "ite: 10000, cost = 7.674038885990003e-27\n",
      "ite: 20000, cost = 7.674038885990003e-27\n",
      "ite: 30000, cost = 7.674038885990003e-27\n",
      "ite: 40000, cost = 7.674038885990003e-27\n",
      "w= [ 38.05161505  41.54327451 -30.98894656  36.34177447]\n",
      "b = 289.9999999999999\n"
     ]
    },
    {
     "data": {
      "text/plain": [
       "<AxesSubplot:xlabel='iterations', ylabel='cost'>"
      ]
     },
     "execution_count": 154,
     "metadata": {},
     "output_type": "execute_result"
    },
    {
     "data": {
      "image/png": "[encoded data removed]",
      "text/plain": [
       "<Figure size 432x288 with 1 Axes>"
      ]
     },
     "metadata": {},
     "output_type": "display_data"
    }
   ],
   "source": [
    "#get result\n",
    "#X_train, y_train = load_house_data()\n",
    "\n",
    "X_train = np.array([[2104, 5, 1, 45],\n",
    "                    [1416, 3, 2, 40], \n",
    "                    [852, 2, 1, 35]])\n",
    "\n",
    "y_train = np.array([460, 232, 178])\n",
    "#X_train = np.array([[0],[1],[2],[3],[4],[5]])\n",
    "#y_train = np.array([0,  0, 0, 1, 1, 1])\n",
    "#to rescale feature\n",
    "X_train,mu,sigma = z_score(X_train)\n",
    "b_i = 0\n",
    "w_i = np.zeros(X_train.shape[1] )\n",
    "w,b,cost,ite=gradient(w_i,b_i,X_train,y_train,0.2,times=50000,mod=10000,lambda_=0)\n",
    "for i in range(len(cost)):\n",
    "    print(f\"ite: {ite[i]}, cost = {cost[i]}\")\n",
    "print(f\"w= {w}\")\n",
    "print(f\"b = {b}\")\n",
    "sns.set(style=\"dark\")\n",
    "dd = {\n",
    "  \"iterations\":ite,\n",
    "  \"cost\": cost\n",
    "}\n",
    "df = pd.DataFrame(dd)\n",
    "sns.lineplot(x=\"iterations\",\n",
    "             y=\"cost\",data=df)"
   ]
  },
  {
   "cell_type": "code",
   "execution_count": 155,
   "id": "c6a580cf",
   "metadata": {},
   "outputs": [
    {
     "name": "stdout",
     "output_type": "stream",
     "text": [
      "[460.]\n"
     ]
    }
   ],
   "source": [
    "#run model \n",
    "x=np.array([[2104, 5, 1, 45]])#target=460\n",
    "#must rescale the input\n",
    "x = (x-mu)/sigma\n",
    "#predict\n",
    "print(np.dot(x,w)+b)"
   ]
  },
  {
   "cell_type": "code",
   "execution_count": null,
   "id": "5fb07f0c",
   "metadata": {},
   "outputs": [],
   "source": []
  }
 ],
 "metadata": {
  "kernelspec": {
   "display_name": "Python 3 (ipykernel)",
   "language": "python",
   "name": "python3"
  },
  "language_info": {
   "codemirror_mode": {
    "name": "ipython",
    "version": 3
   },
   "file_extension": ".py",
   "mimetype": "text/x-python",
   "name": "python",
   "nbconvert_exporter": "python",
   "pygments_lexer": "ipython3",
   "version": "3.9.12"
  }
 },
 "nbformat": 4,
 "nbformat_minor": 5
}
