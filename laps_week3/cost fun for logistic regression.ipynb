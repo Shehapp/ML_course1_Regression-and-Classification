{
 "cells": [
  {
   "cell_type": "markdown",
   "id": "e9e50693",
   "metadata": {},
   "source": [
    "# Optional Lab: Cost Function for Logistic Regression\n"
   ]
  },
  {
   "cell_type": "code",
   "execution_count": 60,
   "id": "444cba8f",
   "metadata": {},
   "outputs": [],
   "source": [
    "import numpy as np\n",
    "import matplotlib.pyplot as plt"
   ]
  },
  {
   "cell_type": "code",
   "execution_count": 61,
   "id": "e7be23b8",
   "metadata": {},
   "outputs": [],
   "source": [
    "X_train = np.array([[0.5, 1.5], \n",
    "                    [1,1],\n",
    "                    [1.5, 0.5],\n",
    "                    [3, 0.5],\n",
    "                    [2, 2],\n",
    "                    [1, 2.5]])  #(m,n)\n",
    "y_train = np.array([0, 0, 0, 1, 1, 1])  "
   ]
  },
  {
   "cell_type": "code",
   "execution_count": 62,
   "id": "025cdb42",
   "metadata": {},
   "outputs": [
    {
     "data": {
      "image/png": "[encoded data removed]",
      "text/plain": [
       "<Figure size 432x288 with 1 Axes>"
      ]
     },
     "metadata": {
      "needs_background": "light"
     },
     "output_type": "display_data"
    }
   ],
   "source": [
    "plt.scatter(x=X_train[:,0],y=X_train[:,1])\n",
    "plt.show()"
   ]
  },
  {
   "cell_type": "code",
   "execution_count": 63,
   "id": "a7750d97",
   "metadata": {},
   "outputs": [],
   "source": [
    "def sigmoid(x):\n",
    "    return 1/(1+np.exp(-x))"
   ]
  },
  {
   "cell_type": "code",
   "execution_count": 66,
   "id": "0341fe1e",
   "metadata": {},
   "outputs": [],
   "source": [
    "def cost_logistic(x,y,w,b):\n",
    "    \n",
    "    m=x.shape[0]\n",
    "    se = sigmoid(np.dot(x,w)+b)\n",
    "    ans = 0\n",
    "    for i in range(m):\n",
    "        ans+=-y[i]*np.log(se[i])-(1-y[i])*np.log(1-se[i])\n",
    "    return ans/m\n",
    "        "
   ]
  },
  {
   "cell_type": "code",
   "execution_count": 68,
   "id": "671c0cf0",
   "metadata": {},
   "outputs": [
    {
     "name": "stdout",
     "output_type": "stream",
     "text": [
      "0.5036808636748461\n"
     ]
    }
   ],
   "source": [
    "w = np.array([1,1])\n",
    "b = -4\n",
    "print(cost_logistic(X_train,y_train,w,b))"
   ]
  },
  {
   "cell_type": "code",
   "execution_count": null,
   "id": "5e0211fa",
   "metadata": {},
   "outputs": [],
   "source": []
  }
 ],
 "metadata": {
  "kernelspec": {
   "display_name": "Python 3 (ipykernel)",
   "language": "python",
   "name": "python3"
  },
  "language_info": {
   "codemirror_mode": {
    "name": "ipython",
    "version": 3
   },
   "file_extension": ".py",
   "mimetype": "text/x-python",
   "name": "python",
   "nbconvert_exporter": "python",
   "pygments_lexer": "ipython3",
   "version": "3.9.12"
  }
 },
 "nbformat": 4,
 "nbformat_minor": 5
}
