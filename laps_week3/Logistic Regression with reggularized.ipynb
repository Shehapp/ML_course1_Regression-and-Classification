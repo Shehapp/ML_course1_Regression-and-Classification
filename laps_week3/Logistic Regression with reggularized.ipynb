{
 "cells": [
  {
   "cell_type": "markdown",
   "id": "185060ed",
   "metadata": {},
   "source": [
    "# Optional Lab: Gradient Descent for Logistic Regression"
   ]
  },
  {
   "cell_type": "code",
   "execution_count": 1,
   "id": "8254f366",
   "metadata": {},
   "outputs": [],
   "source": [
    "import numpy as np\n",
    "import matplotlib.pyplot as plt"
   ]
  },
  {
   "cell_type": "code",
   "execution_count": 2,
   "id": "02bb1834",
   "metadata": {},
   "outputs": [],
   "source": [
    "def sigmoid(x):\n",
    "    return 1/(1+np.exp(-x))"
   ]
  },
  {
   "cell_type": "code",
   "execution_count": 8,
   "id": "87efe606",
   "metadata": {},
   "outputs": [],
   "source": [
    "def cost_logistic(x,y,w,b,lambda_=1):\n",
    "    \n",
    "    m=x.shape[0]\n",
    "    se = sigmoid(np.dot(x,w)+b)\n",
    "    cost = 0\n",
    "    for i in range(m):\n",
    "        cost+=-y[i]*np.log(se[i])-(1-y[i])*np.log(1-se[i])\n",
    "    cost/=m\n",
    "    cost_reg = 0\n",
    "    for i in w:\n",
    "        cost_reg+=i**2\n",
    "    cost_reg=cost_reg*(lambda_/(2*m))\n",
    "    return cost+cost_reg"
   ]
  },
  {
   "cell_type": "code",
   "execution_count": 12,
   "id": "fa755927",
   "metadata": {},
   "outputs": [],
   "source": [
    "def gradient_descent(x,y,w,b,lambda_=1):\n",
    "    \n",
    "    n = x.shape[1]\n",
    "    m = x.shape[0]\n",
    "    dj_w = np.zeros((n,))\n",
    "    dj_b = 0\n",
    "    for i in range(m):\n",
    "        err = (sigmoid(np.dot(x[i],w)+b))-y[i]\n",
    "        for j in range(n):\n",
    "            dj_w[j]+=err*x[i,j]\n",
    "        dj_b+=err\n",
    "    dj_w/=m\n",
    "    for i in range(n):\n",
    "        dj_w[i]+=(lambda_/m)*w[i]\n",
    "    \n",
    "    return dj_w,dj_b/m\n",
    "            "
   ]
  },
  {
   "cell_type": "code",
   "execution_count": 5,
   "id": "7a796d6c",
   "metadata": {},
   "outputs": [],
   "source": [
    "def train_model(w,b,x,y,times,alpha,mod):\n",
    "    \n",
    "    for i in range(times):\n",
    "        dj_w,dj_b=gradient_descent(x,y,w,b)\n",
    "        w = w - alpha*dj_w\n",
    "        b = b- alpha*dj_b\n",
    "        if i%mod==0:\n",
    "            print(f\"ite: {i} cost= {cost_logistic(x,y,w,b)}\")\n",
    "    return w,b"
   ]
  },
  {
   "cell_type": "code",
   "execution_count": 6,
   "id": "60430e40",
   "metadata": {},
   "outputs": [
    {
     "name": "stdout",
     "output_type": "stream",
     "text": [
      "(array([0.55388895, 0.58217276]), 0.49861806546328574)\n"
     ]
    }
   ],
   "source": [
    "X_tmp = np.array([[0.5, 1.5], [1,1], [1.5, 0.5], [3, 0.5], [2, 2], [1, 2.5]])\n",
    "y_tmp = np.array([0, 0, 0, 1, 1, 1])\n",
    "w_tmp = np.array([2.,3.])\n",
    "b_tmp = 1.\n",
    "print(gradient_descent(X_tmp,y_tmp,w_tmp,b_tmp))\n"
   ]
  },
  {
   "cell_type": "code",
   "execution_count": 9,
   "id": "8f2fc66a",
   "metadata": {},
   "outputs": [
    {
     "name": "stdout",
     "output_type": "stream",
     "text": [
      "ite: 0 cost= 0.6846857000420554\n",
      "ite: 1000 cost= 0.7106768489384792\n",
      "ite: 2000 cost= 0.8566226596688115\n",
      "ite: 3000 cost= 0.8996645206212641\n",
      "ite: 4000 cost= 0.9116606424031588\n",
      "ite: 5000 cost= 0.9149740592308344\n",
      "ite: 6000 cost= 0.915887328169361\n",
      "ite: 7000 cost= 0.9161389113996143\n",
      "ite: 8000 cost= 0.9162082060282346\n",
      "ite: 9000 cost= 0.9162272913543338\n",
      "w= [2.22801407 2.02022336]\n",
      "b= -5.993737299821427\n"
     ]
    }
   ],
   "source": [
    "X_train = np.array([[0.5, 1.5], [1,1], [1.5, 0.5], [3, 0.5], [2, 2], [1, 2.5]])\n",
    "y_train = np.array([0, 0, 0, 1, 1, 1])\n",
    "w_tmp  = np.zeros_like(X_train[0])\n",
    "b_tmp  = 0.\n",
    "alph = 0.1\n",
    "iters = 10000\n",
    "w,b = train_model(w_tmp,b_tmp,X_train,y_train,iters,alph,1000)\n",
    "print(f\"w= {w}\")\n",
    "print(f\"b= {b}\")"
   ]
  },
  {
   "cell_type": "code",
   "execution_count": 10,
   "id": "37878bd5",
   "metadata": {},
   "outputs": [
    {
     "name": "stdout",
     "output_type": "stream",
     "text": [
      "YES\n"
     ]
    }
   ],
   "source": [
    "# enter inputs if outputs>=0.5 its 1 else its 0\n",
    "x = [1,2.5]\n",
    "ans = round(np.dot(x,w)+b)\n",
    "if ans>=0.5:\n",
    "    print(\"YES\")\n",
    "else:\n",
    "    print(\"NO\")"
   ]
  },
  {
   "cell_type": "code",
   "execution_count": null,
   "id": "aa10470d",
   "metadata": {},
   "outputs": [],
   "source": []
  }
 ],
 "metadata": {
  "kernelspec": {
   "display_name": "Python 3 (ipykernel)",
   "language": "python",
   "name": "python3"
  },
  "language_info": {
   "codemirror_mode": {
    "name": "ipython",
    "version": 3
   },
   "file_extension": ".py",
   "mimetype": "text/x-python",
   "name": "python",
   "nbconvert_exporter": "python",
   "pygments_lexer": "ipython3",
   "version": "3.9.12"
  }
 },
 "nbformat": 4,
 "nbformat_minor": 5
}
